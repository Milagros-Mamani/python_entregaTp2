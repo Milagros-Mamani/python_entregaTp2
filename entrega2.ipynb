{
 "cells": [
  {
   "cell_type": "markdown",
   "metadata": {},
   "source": [
    "PRIMERO IMPORTO LOS MODULOS QUE USARE"
   ]
  },
  {
   "cell_type": "code",
   "execution_count": 1,
   "metadata": {},
   "outputs": [],
   "source": [
    "import funcHelps\n",
    "from funcHelps import funciones\n",
    "\n",
    "import functools\n",
    "from functools import reduce"
   ]
  },
  {
   "cell_type": "markdown",
   "metadata": {},
   "source": [
    "PUNTO 1: \n",
    "Genero una lista de diccionarios, el cual tiene dentro los datos de cada jugador."
   ]
  },
  {
   "cell_type": "code",
   "execution_count": 2,
   "metadata": {},
   "outputs": [
    {
     "name": "stdout",
     "output_type": "stream",
     "text": [
      "------------ESTRUCTURA GENERADA----------------\n",
      " Agustin  - goles: 0 - goles evitados: 0 - asistencias: 0\n",
      " Yanina  - goles: 10 - goles evitados: 2 - asistencias: 5\n",
      " Andrés  - goles: 4 - goles evitados: 0 - asistencias: 1\n",
      " Ariadna  - goles: 0 - goles evitados: 0 - asistencias: 0\n",
      " Bautista  - goles: 5 - goles evitados: 5 - asistencias: 5\n",
      " CAROLINA  - goles: 14 - goles evitados: 2 - asistencias: 2\n",
      " CESAR - goles: 0 - goles evitados: 0 - asistencias: 0\n",
      " David  - goles: 0 - goles evitados: 0 - asistencias: 0\n",
      " Diego  - goles: 7 - goles evitados: 1 - asistencias: 1\n",
      " Dolores  - goles: 2 - goles evitados: 2 - asistencias: 2\n",
      " DYLAN  - goles: 1 - goles evitados: 0 - asistencias: 1\n",
      " ELIANA  - goles: 1 - goles evitados: 5 - asistencias: 5\n",
      " Emanuel  - goles: 1 - goles evitados: 5 - asistencias: 5\n",
      " Fabián  - goles: 5 - goles evitados: 0 - asistencias: 0\n",
      " Noelia  - goles: 6 - goles evitados: 1 - asistencias: 1\n",
      " Francsica  - goles: 1 - goles evitados: 0 - asistencias: 0\n",
      " FEDERICO  - goles: 1 - goles evitados: 2 - asistencias: 2\n",
      " Fernanda  - goles: 2 - goles evitados: 3 - asistencias: 3\n",
      " GONZALO  - goles: 0 - goles evitados: 0 - asistencias: 1\n",
      " Nancy  - goles: 11 - goles evitados: 0 - asistencias: 0\n"
     ]
    }
   ],
   "source": [
    "names = \"\"\" Agustin , Yanina , Andrés , Ariadna , Bautista , CAROLINA , CESAR, David , Diego , Dolores , DYLAN , ELIANA , Emanuel , Fabián , Noelia , Francsica , FEDERICO , Fernanda , GONZALO , Nancy \"\"\"\n",
    "nombres= names.split(\",\")\n",
    "goals = [0, 10, 4, 0, 5, 14, 0, 0, 7, 2, 1, 1, 1, 5, 6, 1, 1, 2, 0, 11]\n",
    "goals_avoided = [0, 2, 0, 0, 5, 2, 0, 0, 1, 2, 0, 5, 5, 0, 1, 0, 2, 3, 0, 0]\n",
    "assists = [0, 5, 1, 0, 5, 2, 0, 0, 1, 2, 1, 5, 5, 0, 1, 0, 2, 3, 1, 0]\n",
    "\n",
    "listaJugadorxs=[]\n",
    "for i in range(20):\n",
    "         dic={}\n",
    "         dic[\"nombre\"]= nombres[i]\n",
    "         dic[\"goles\"]= goals[i]\n",
    "         dic[\"g_evitados\"]= goals_avoided[i]\n",
    "         dic[\"asistencias\"]= assists[i]\n",
    "         listaJugadorxs.append(dic)\n",
    "print(\"------------ESTRUCTURA GENERADA----------------\")\n",
    "for elem in listaJugadorxs:\n",
    "         print(f'{elem[\"nombre\"]} - goles: {elem[\"goles\"]} - goles evitados: {elem[\"g_evitados\"]} - asistencias: {elem[\"asistencias\"]}')"
   ]
  },
  {
   "cell_type": "markdown",
   "metadata": {},
   "source": [
    "PUNTO 2: \n",
    "Informo el nombre y la cantidad de goles del goleador/ra"
   ]
  },
  {
   "cell_type": "code",
   "execution_count": 3,
   "metadata": {},
   "outputs": [
    {
     "name": "stdout",
     "output_type": "stream",
     "text": [
      " CAROLINA  es la goledora con 14 goles en la temporada\n"
     ]
    }
   ],
   "source": [
    "max= funciones.maxJugador(listaJugadorxs)\n",
    "\n",
    "# Tuve que usar las auxiliares \"nom\" y \"cant\" , porque me saltaba un error de:\n",
    "# f-string: unmatched '['\n",
    "\n",
    "nom= max[\"nombre\"]\n",
    "cant= max[\"goles\"]\n",
    "print(f\"{nom} es la goledora con {cant} goles en la temporada\")"
   ]
  },
  {
   "cell_type": "markdown",
   "metadata": {},
   "source": [
    "PUNTO 3: \n",
    "Informo el nombre del jugador/ra mas influyente de la temporada"
   ]
  },
  {
   "cell_type": "code",
   "execution_count": 4,
   "metadata": {},
   "outputs": [
    {
     "name": "stdout",
     "output_type": "stream",
     "text": [
      " CAROLINA  es el/la jugador/ra mas influyente de la temporada\n"
     ]
    }
   ],
   "source": [
    "aux=funciones.jugadorInfluyente(listaJugadorxs)\n",
    "print(f\"{aux} es el/la jugador/ra mas influyente de la temporada\")"
   ]
  },
  {
   "cell_type": "markdown",
   "metadata": {},
   "source": [
    "PUNTO 4: \n",
    "Informo el promedio de goles por partido"
   ]
  },
  {
   "cell_type": "code",
   "execution_count": 6,
   "metadata": {},
   "outputs": [
    {
     "name": "stdout",
     "output_type": "stream",
     "text": [
      "2.84 es el promedio de goles por partido\n"
     ]
    }
   ],
   "source": [
    "suma= functools.reduce(lambda x,y: x+y[\"goles\"], listaJugadorxs, 0)\n",
    "print(f\"{suma/25} es el promedio de goles por partido\")"
   ]
  },
  {
   "cell_type": "markdown",
   "metadata": {},
   "source": [
    "PUNTO 5: \n",
    "Informo el promedio de goles de el/la jugador/ra del golerador/ra de la temporada"
   ]
  },
  {
   "cell_type": "code",
   "execution_count": 7,
   "metadata": {},
   "outputs": [
    {
     "name": "stdout",
     "output_type": "stream",
     "text": [
      "0.56 es el promedio de goles por partido de el/la jugador/ra con mas goles\n"
     ]
    }
   ],
   "source": [
    "promGoleadx= lambda x: x/25\n",
    "promJ= promGoleadx(max[\"goles\"])\n",
    "print(f\"{promJ} es el promedio de goles por partido de el/la jugador/ra con mas goles\")"
   ]
  }
 ],
 "metadata": {
  "kernelspec": {
   "display_name": "Python 3",
   "language": "python",
   "name": "python3"
  },
  "language_info": {
   "codemirror_mode": {
    "name": "ipython",
    "version": 3
   },
   "file_extension": ".py",
   "mimetype": "text/x-python",
   "name": "python",
   "nbconvert_exporter": "python",
   "pygments_lexer": "ipython3",
   "version": "3.11.6"
  }
 },
 "nbformat": 4,
 "nbformat_minor": 2
}
